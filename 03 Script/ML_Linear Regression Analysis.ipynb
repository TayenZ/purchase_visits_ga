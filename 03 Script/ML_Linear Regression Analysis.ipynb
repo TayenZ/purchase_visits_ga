{
 "cells": [
  {
   "cell_type": "code",
   "execution_count": 2,
   "id": "1b99ab2c",
   "metadata": {},
   "outputs": [],
   "source": [
    "# import nessacery library"
   ]
  },
  {
   "cell_type": "code",
   "execution_count": 3,
   "id": "af043c18",
   "metadata": {},
   "outputs": [],
   "source": [
    "import pandas as pd\n",
    "import numpy as np\n",
    "import seaborn as sns\n",
    "import matplotlib \n",
    "import matplotlib.pyplot as plt\n",
    "import os\n",
    "import sklearn\n",
    "from sklearn.model_selection import train_test_split\n",
    "from sklearn.linear_model import LinearRegression\n",
    "from sklearn.metrics import mean_squared_error, r2_score"
   ]
  },
  {
   "cell_type": "code",
   "execution_count": 4,
   "id": "4c29a0c8",
   "metadata": {},
   "outputs": [],
   "source": [
    "%matplotlib inline"
   ]
  },
  {
   "cell_type": "code",
   "execution_count": 5,
   "id": "753dbe76",
   "metadata": {},
   "outputs": [],
   "source": [
    "path = r'/Users/tayen/Documents/CF/Advanced Analytics Dashboard Design/02 Data/Processed Data'"
   ]
  },
  {
   "cell_type": "code",
   "execution_count": 6,
   "id": "6b9c273a",
   "metadata": {},
   "outputs": [],
   "source": [
    "purchase = pd.read_pickle(os.path.join(path,'purchase_ga_session.pickle'))"
   ]
  },
  {
   "cell_type": "code",
   "execution_count": 14,
   "id": "0a0b0cdb",
   "metadata": {},
   "outputs": [],
   "source": [
    "visit_purchase = purchase.groupby('visitID').agg({'visits':'sum','hits':'max','pageviews':'max','transactions':'max','totalTransactionRevenue':'max'})"
   ]
  },
  {
   "cell_type": "code",
   "execution_count": 22,
   "id": "a6966c69",
   "metadata": {},
   "outputs": [],
   "source": [
    "visit_purchase.to_csv(os.path.join(path,'visit_purchase.csv'),index = False)\n"
   ]
  },
  {
   "cell_type": "markdown",
   "id": "f5d0f595",
   "metadata": {},
   "source": [
    "# data already cleaned from previous tasks"
   ]
  },
  {
   "cell_type": "code",
   "execution_count": 17,
   "id": "d3ef1c87",
   "metadata": {
    "scrolled": true
   },
   "outputs": [
    {
     "data": {
      "text/plain": [
       "Index(['visitID', 'date', 'visits', 'hits', 'pageviews', 'timeOnSite',\n",
       "       'transactions', 'totalTransactionRevenue', 'source', 'campaign',\n",
       "       'medium', 'keyword', 'adNetworkType', 'browser', 'operatingSystem',\n",
       "       'isMobile', 'continent', 'subContinent', 'country', 'hitNumber',\n",
       "       'isInteraction', 'time', 'hour', 'minute', 'pagePath', 'hostname',\n",
       "       'pageTitle', 'transactionId', 'transactionRevenue', 'transactionTax',\n",
       "       'transactionShipping', 'affiliation', 'currencyCode',\n",
       "       'previousContentGroup1', 'previousContentGroup2',\n",
       "       'previousContentGroup3', 'dataSource', 'fullVisitorId',\n",
       "       'channelGrouping', 'socialEngagementType', 'productSKU_1',\n",
       "       'v2ProductName', 'v2ProductCategory', 'productVariant',\n",
       "       'productRevenue', 'productPrice', 'productQuantity'],\n",
       "      dtype='object')"
      ]
     },
     "execution_count": 17,
     "metadata": {},
     "output_type": "execute_result"
    }
   ],
   "source": [
    "purchase.columns"
   ]
  },
  {
   "cell_type": "code",
   "execution_count": 18,
   "id": "29cd1c57",
   "metadata": {},
   "outputs": [
    {
     "data": {
      "text/html": [
       "<div>\n",
       "<style scoped>\n",
       "    .dataframe tbody tr th:only-of-type {\n",
       "        vertical-align: middle;\n",
       "    }\n",
       "\n",
       "    .dataframe tbody tr th {\n",
       "        vertical-align: top;\n",
       "    }\n",
       "\n",
       "    .dataframe thead th {\n",
       "        text-align: right;\n",
       "    }\n",
       "</style>\n",
       "<table border=\"1\" class=\"dataframe\">\n",
       "  <thead>\n",
       "    <tr style=\"text-align: right;\">\n",
       "      <th></th>\n",
       "      <th>visits</th>\n",
       "      <th>hits</th>\n",
       "      <th>pageviews</th>\n",
       "      <th>transactions</th>\n",
       "      <th>totalTransactionRevenue</th>\n",
       "    </tr>\n",
       "    <tr>\n",
       "      <th>visitID</th>\n",
       "      <th></th>\n",
       "      <th></th>\n",
       "      <th></th>\n",
       "      <th></th>\n",
       "      <th></th>\n",
       "    </tr>\n",
       "  </thead>\n",
       "  <tbody>\n",
       "    <tr>\n",
       "      <th>1470046365</th>\n",
       "      <td>4</td>\n",
       "      <td>54</td>\n",
       "      <td>39</td>\n",
       "      <td>1</td>\n",
       "      <td>1592.40</td>\n",
       "    </tr>\n",
       "    <tr>\n",
       "      <th>1470050783</th>\n",
       "      <td>1</td>\n",
       "      <td>38</td>\n",
       "      <td>31</td>\n",
       "      <td>1</td>\n",
       "      <td>12.99</td>\n",
       "    </tr>\n",
       "    <tr>\n",
       "      <th>1470052998</th>\n",
       "      <td>1</td>\n",
       "      <td>34</td>\n",
       "      <td>28</td>\n",
       "      <td>1</td>\n",
       "      <td>32.19</td>\n",
       "    </tr>\n",
       "    <tr>\n",
       "      <th>1470055898</th>\n",
       "      <td>2</td>\n",
       "      <td>18</td>\n",
       "      <td>14</td>\n",
       "      <td>1</td>\n",
       "      <td>72.70</td>\n",
       "    </tr>\n",
       "    <tr>\n",
       "      <th>1470057237</th>\n",
       "      <td>4</td>\n",
       "      <td>32</td>\n",
       "      <td>24</td>\n",
       "      <td>1</td>\n",
       "      <td>170.40</td>\n",
       "    </tr>\n",
       "    <tr>\n",
       "      <th>1470061745</th>\n",
       "      <td>1</td>\n",
       "      <td>20</td>\n",
       "      <td>15</td>\n",
       "      <td>1</td>\n",
       "      <td>132.80</td>\n",
       "    </tr>\n",
       "    <tr>\n",
       "      <th>1470063041</th>\n",
       "      <td>5</td>\n",
       "      <td>34</td>\n",
       "      <td>24</td>\n",
       "      <td>1</td>\n",
       "      <td>29.48</td>\n",
       "    </tr>\n",
       "    <tr>\n",
       "      <th>1470063685</th>\n",
       "      <td>4</td>\n",
       "      <td>34</td>\n",
       "      <td>26</td>\n",
       "      <td>1</td>\n",
       "      <td>45.96</td>\n",
       "    </tr>\n",
       "    <tr>\n",
       "      <th>1470064251</th>\n",
       "      <td>6</td>\n",
       "      <td>34</td>\n",
       "      <td>22</td>\n",
       "      <td>1</td>\n",
       "      <td>2213.38</td>\n",
       "    </tr>\n",
       "    <tr>\n",
       "      <th>1470064297</th>\n",
       "      <td>3</td>\n",
       "      <td>37</td>\n",
       "      <td>31</td>\n",
       "      <td>1</td>\n",
       "      <td>66.90</td>\n",
       "    </tr>\n",
       "    <tr>\n",
       "      <th>1470064446</th>\n",
       "      <td>2</td>\n",
       "      <td>25</td>\n",
       "      <td>19</td>\n",
       "      <td>1</td>\n",
       "      <td>37.78</td>\n",
       "    </tr>\n",
       "    <tr>\n",
       "      <th>1470068872</th>\n",
       "      <td>4</td>\n",
       "      <td>35</td>\n",
       "      <td>26</td>\n",
       "      <td>1</td>\n",
       "      <td>19.93</td>\n",
       "    </tr>\n",
       "    <tr>\n",
       "      <th>1470069291</th>\n",
       "      <td>1</td>\n",
       "      <td>13</td>\n",
       "      <td>11</td>\n",
       "      <td>1</td>\n",
       "      <td>22.59</td>\n",
       "    </tr>\n",
       "    <tr>\n",
       "      <th>1470071041</th>\n",
       "      <td>7</td>\n",
       "      <td>69</td>\n",
       "      <td>49</td>\n",
       "      <td>1</td>\n",
       "      <td>108.80</td>\n",
       "    </tr>\n",
       "    <tr>\n",
       "      <th>1470075801</th>\n",
       "      <td>2</td>\n",
       "      <td>51</td>\n",
       "      <td>43</td>\n",
       "      <td>1</td>\n",
       "      <td>29.78</td>\n",
       "    </tr>\n",
       "    <tr>\n",
       "      <th>1470077086</th>\n",
       "      <td>7</td>\n",
       "      <td>83</td>\n",
       "      <td>58</td>\n",
       "      <td>1</td>\n",
       "      <td>224.88</td>\n",
       "    </tr>\n",
       "    <tr>\n",
       "      <th>1470077375</th>\n",
       "      <td>11</td>\n",
       "      <td>229</td>\n",
       "      <td>103</td>\n",
       "      <td>1</td>\n",
       "      <td>118.91</td>\n",
       "    </tr>\n",
       "    <tr>\n",
       "      <th>1470077433</th>\n",
       "      <td>1</td>\n",
       "      <td>64</td>\n",
       "      <td>58</td>\n",
       "      <td>1</td>\n",
       "      <td>258.00</td>\n",
       "    </tr>\n",
       "    <tr>\n",
       "      <th>1470078181</th>\n",
       "      <td>4</td>\n",
       "      <td>53</td>\n",
       "      <td>37</td>\n",
       "      <td>1</td>\n",
       "      <td>149.19</td>\n",
       "    </tr>\n",
       "    <tr>\n",
       "      <th>1470078265</th>\n",
       "      <td>2</td>\n",
       "      <td>21</td>\n",
       "      <td>17</td>\n",
       "      <td>1</td>\n",
       "      <td>65.58</td>\n",
       "    </tr>\n",
       "    <tr>\n",
       "      <th>1470078875</th>\n",
       "      <td>1</td>\n",
       "      <td>83</td>\n",
       "      <td>60</td>\n",
       "      <td>1</td>\n",
       "      <td>35.99</td>\n",
       "    </tr>\n",
       "    <tr>\n",
       "      <th>1470081925</th>\n",
       "      <td>1</td>\n",
       "      <td>22</td>\n",
       "      <td>17</td>\n",
       "      <td>1</td>\n",
       "      <td>21.59</td>\n",
       "    </tr>\n",
       "    <tr>\n",
       "      <th>1470084579</th>\n",
       "      <td>1</td>\n",
       "      <td>9</td>\n",
       "      <td>9</td>\n",
       "      <td>1</td>\n",
       "      <td>12.99</td>\n",
       "    </tr>\n",
       "    <tr>\n",
       "      <th>1470085006</th>\n",
       "      <td>4</td>\n",
       "      <td>36</td>\n",
       "      <td>27</td>\n",
       "      <td>1</td>\n",
       "      <td>149.56</td>\n",
       "    </tr>\n",
       "    <tr>\n",
       "      <th>1470085227</th>\n",
       "      <td>9</td>\n",
       "      <td>22</td>\n",
       "      <td>17</td>\n",
       "      <td>1</td>\n",
       "      <td>217.92</td>\n",
       "    </tr>\n",
       "    <tr>\n",
       "      <th>1470086006</th>\n",
       "      <td>2</td>\n",
       "      <td>37</td>\n",
       "      <td>33</td>\n",
       "      <td>1</td>\n",
       "      <td>102.20</td>\n",
       "    </tr>\n",
       "    <tr>\n",
       "      <th>1470091243</th>\n",
       "      <td>5</td>\n",
       "      <td>49</td>\n",
       "      <td>35</td>\n",
       "      <td>1</td>\n",
       "      <td>105.35</td>\n",
       "    </tr>\n",
       "    <tr>\n",
       "      <th>1470094576</th>\n",
       "      <td>1</td>\n",
       "      <td>25</td>\n",
       "      <td>19</td>\n",
       "      <td>1</td>\n",
       "      <td>12.50</td>\n",
       "    </tr>\n",
       "    <tr>\n",
       "      <th>1470095605</th>\n",
       "      <td>1</td>\n",
       "      <td>79</td>\n",
       "      <td>59</td>\n",
       "      <td>1</td>\n",
       "      <td>51.99</td>\n",
       "    </tr>\n",
       "    <tr>\n",
       "      <th>1470096817</th>\n",
       "      <td>1</td>\n",
       "      <td>14</td>\n",
       "      <td>11</td>\n",
       "      <td>1</td>\n",
       "      <td>19.99</td>\n",
       "    </tr>\n",
       "  </tbody>\n",
       "</table>\n",
       "</div>"
      ],
      "text/plain": [
       "            visits  hits  pageviews  transactions  totalTransactionRevenue\n",
       "visitID                                                                   \n",
       "1470046365       4    54         39             1                  1592.40\n",
       "1470050783       1    38         31             1                    12.99\n",
       "1470052998       1    34         28             1                    32.19\n",
       "1470055898       2    18         14             1                    72.70\n",
       "1470057237       4    32         24             1                   170.40\n",
       "1470061745       1    20         15             1                   132.80\n",
       "1470063041       5    34         24             1                    29.48\n",
       "1470063685       4    34         26             1                    45.96\n",
       "1470064251       6    34         22             1                  2213.38\n",
       "1470064297       3    37         31             1                    66.90\n",
       "1470064446       2    25         19             1                    37.78\n",
       "1470068872       4    35         26             1                    19.93\n",
       "1470069291       1    13         11             1                    22.59\n",
       "1470071041       7    69         49             1                   108.80\n",
       "1470075801       2    51         43             1                    29.78\n",
       "1470077086       7    83         58             1                   224.88\n",
       "1470077375      11   229        103             1                   118.91\n",
       "1470077433       1    64         58             1                   258.00\n",
       "1470078181       4    53         37             1                   149.19\n",
       "1470078265       2    21         17             1                    65.58\n",
       "1470078875       1    83         60             1                    35.99\n",
       "1470081925       1    22         17             1                    21.59\n",
       "1470084579       1     9          9             1                    12.99\n",
       "1470085006       4    36         27             1                   149.56\n",
       "1470085227       9    22         17             1                   217.92\n",
       "1470086006       2    37         33             1                   102.20\n",
       "1470091243       5    49         35             1                   105.35\n",
       "1470094576       1    25         19             1                    12.50\n",
       "1470095605       1    79         59             1                    51.99\n",
       "1470096817       1    14         11             1                    19.99"
      ]
     },
     "execution_count": 18,
     "metadata": {},
     "output_type": "execute_result"
    }
   ],
   "source": [
    "visit_purchase.head(30)"
   ]
  },
  {
   "cell_type": "code",
   "execution_count": 20,
   "id": "69375aeb",
   "metadata": {},
   "outputs": [
    {
     "data": {
      "text/html": [
       "<div>\n",
       "<style scoped>\n",
       "    .dataframe tbody tr th:only-of-type {\n",
       "        vertical-align: middle;\n",
       "    }\n",
       "\n",
       "    .dataframe tbody tr th {\n",
       "        vertical-align: top;\n",
       "    }\n",
       "\n",
       "    .dataframe thead th {\n",
       "        text-align: right;\n",
       "    }\n",
       "</style>\n",
       "<table border=\"1\" class=\"dataframe\">\n",
       "  <thead>\n",
       "    <tr style=\"text-align: right;\">\n",
       "      <th></th>\n",
       "      <th>visitID</th>\n",
       "      <th>visits</th>\n",
       "      <th>hits</th>\n",
       "      <th>pageviews</th>\n",
       "      <th>transactions</th>\n",
       "      <th>totalTransactionRevenue</th>\n",
       "    </tr>\n",
       "  </thead>\n",
       "  <tbody>\n",
       "    <tr>\n",
       "      <th>0</th>\n",
       "      <td>1470046365</td>\n",
       "      <td>4</td>\n",
       "      <td>54</td>\n",
       "      <td>39</td>\n",
       "      <td>1</td>\n",
       "      <td>1592.40</td>\n",
       "    </tr>\n",
       "    <tr>\n",
       "      <th>1</th>\n",
       "      <td>1470050783</td>\n",
       "      <td>1</td>\n",
       "      <td>38</td>\n",
       "      <td>31</td>\n",
       "      <td>1</td>\n",
       "      <td>12.99</td>\n",
       "    </tr>\n",
       "    <tr>\n",
       "      <th>2</th>\n",
       "      <td>1470052998</td>\n",
       "      <td>1</td>\n",
       "      <td>34</td>\n",
       "      <td>28</td>\n",
       "      <td>1</td>\n",
       "      <td>32.19</td>\n",
       "    </tr>\n",
       "    <tr>\n",
       "      <th>3</th>\n",
       "      <td>1470055898</td>\n",
       "      <td>2</td>\n",
       "      <td>18</td>\n",
       "      <td>14</td>\n",
       "      <td>1</td>\n",
       "      <td>72.70</td>\n",
       "    </tr>\n",
       "    <tr>\n",
       "      <th>4</th>\n",
       "      <td>1470057237</td>\n",
       "      <td>4</td>\n",
       "      <td>32</td>\n",
       "      <td>24</td>\n",
       "      <td>1</td>\n",
       "      <td>170.40</td>\n",
       "    </tr>\n",
       "    <tr>\n",
       "      <th>...</th>\n",
       "      <td>...</td>\n",
       "      <td>...</td>\n",
       "      <td>...</td>\n",
       "      <td>...</td>\n",
       "      <td>...</td>\n",
       "      <td>...</td>\n",
       "    </tr>\n",
       "    <tr>\n",
       "      <th>11502</th>\n",
       "      <td>1501641303</td>\n",
       "      <td>1</td>\n",
       "      <td>30</td>\n",
       "      <td>29</td>\n",
       "      <td>1</td>\n",
       "      <td>19.29</td>\n",
       "    </tr>\n",
       "    <tr>\n",
       "      <th>11503</th>\n",
       "      <td>1501641559</td>\n",
       "      <td>2</td>\n",
       "      <td>35</td>\n",
       "      <td>27</td>\n",
       "      <td>1</td>\n",
       "      <td>35.58</td>\n",
       "    </tr>\n",
       "    <tr>\n",
       "      <th>11504</th>\n",
       "      <td>1501646467</td>\n",
       "      <td>7</td>\n",
       "      <td>55</td>\n",
       "      <td>42</td>\n",
       "      <td>1</td>\n",
       "      <td>150.69</td>\n",
       "    </tr>\n",
       "    <tr>\n",
       "      <th>11505</th>\n",
       "      <td>1501647149</td>\n",
       "      <td>1</td>\n",
       "      <td>80</td>\n",
       "      <td>58</td>\n",
       "      <td>1</td>\n",
       "      <td>6.99</td>\n",
       "    </tr>\n",
       "    <tr>\n",
       "      <th>11506</th>\n",
       "      <td>1501651868</td>\n",
       "      <td>4</td>\n",
       "      <td>53</td>\n",
       "      <td>40</td>\n",
       "      <td>1</td>\n",
       "      <td>34.79</td>\n",
       "    </tr>\n",
       "  </tbody>\n",
       "</table>\n",
       "<p>11507 rows × 6 columns</p>\n",
       "</div>"
      ],
      "text/plain": [
       "          visitID  visits  hits  pageviews  transactions  \\\n",
       "0      1470046365       4    54         39             1   \n",
       "1      1470050783       1    38         31             1   \n",
       "2      1470052998       1    34         28             1   \n",
       "3      1470055898       2    18         14             1   \n",
       "4      1470057237       4    32         24             1   \n",
       "...           ...     ...   ...        ...           ...   \n",
       "11502  1501641303       1    30         29             1   \n",
       "11503  1501641559       2    35         27             1   \n",
       "11504  1501646467       7    55         42             1   \n",
       "11505  1501647149       1    80         58             1   \n",
       "11506  1501651868       4    53         40             1   \n",
       "\n",
       "       totalTransactionRevenue  \n",
       "0                      1592.40  \n",
       "1                        12.99  \n",
       "2                        32.19  \n",
       "3                        72.70  \n",
       "4                       170.40  \n",
       "...                        ...  \n",
       "11502                    19.29  \n",
       "11503                    35.58  \n",
       "11504                   150.69  \n",
       "11505                     6.99  \n",
       "11506                    34.79  \n",
       "\n",
       "[11507 rows x 6 columns]"
      ]
     },
     "execution_count": 20,
     "metadata": {},
     "output_type": "execute_result"
    }
   ],
   "source": [
    "visit_purchase.reset_index()"
   ]
  },
  {
   "cell_type": "markdown",
   "id": "0ab08be2",
   "metadata": {},
   "source": [
    "# hypothesis\n",
    "## more hits visitor generate more likely they make a puchase"
   ]
  },
  {
   "cell_type": "markdown",
   "id": "4c535883",
   "metadata": {},
   "source": [
    "## reshape data"
   ]
  },
  {
   "cell_type": "code",
   "execution_count": 19,
   "id": "d9751b3e",
   "metadata": {},
   "outputs": [],
   "source": [
    "# reshape the varisbles we need into numpy arrays and put them into separate objects\n",
    "X = purchase['hits'].values.reshape(-1,1)\n",
    "y = purchase['transactions'].values.reshape(-1,1)"
   ]
  },
  {
   "cell_type": "code",
   "execution_count": 20,
   "id": "6fbd76c4",
   "metadata": {},
   "outputs": [
    {
     "data": {
      "text/plain": [
       "array([[32],\n",
       "       [32],\n",
       "       [32],\n",
       "       ...,\n",
       "       [ 5],\n",
       "       [ 5],\n",
       "       [ 5]])"
      ]
     },
     "execution_count": 20,
     "metadata": {},
     "output_type": "execute_result"
    }
   ],
   "source": [
    "X"
   ]
  },
  {
   "cell_type": "code",
   "execution_count": 21,
   "id": "f7245d95",
   "metadata": {},
   "outputs": [
    {
     "data": {
      "text/plain": [
       "array([[1],\n",
       "       [1],\n",
       "       [1],\n",
       "       ...,\n",
       "       [1],\n",
       "       [1],\n",
       "       [1]])"
      ]
     },
     "execution_count": 21,
     "metadata": {},
     "output_type": "execute_result"
    }
   ],
   "source": [
    "y\n"
   ]
  },
  {
   "cell_type": "markdown",
   "id": "16c5782e",
   "metadata": {},
   "source": [
    "## split the data into training and test"
   ]
  },
  {
   "cell_type": "code",
   "execution_count": 22,
   "id": "3022716d",
   "metadata": {},
   "outputs": [],
   "source": [
    "X_train, X_test, y_train, y_test = train_test_split(X, y, test_size=0.3, random_state=0)"
   ]
  },
  {
   "cell_type": "markdown",
   "id": "ed828b80",
   "metadata": {},
   "source": [
    "## Linear Regression Analysis"
   ]
  },
  {
   "cell_type": "code",
   "execution_count": 23,
   "id": "aa33a91a",
   "metadata": {},
   "outputs": [],
   "source": [
    "# Create a regression object.\n",
    "regression = LinearRegression()"
   ]
  },
  {
   "cell_type": "code",
   "execution_count": 24,
   "id": "bce43557",
   "metadata": {},
   "outputs": [
    {
     "data": {
      "text/plain": [
       "LinearRegression()"
      ]
     },
     "execution_count": 24,
     "metadata": {},
     "output_type": "execute_result"
    }
   ],
   "source": [
    "# Fit the regression object onto the training set.\n",
    "regression.fit(X_train, y_train)"
   ]
  },
  {
   "cell_type": "code",
   "execution_count": 25,
   "id": "cd2ed661",
   "metadata": {},
   "outputs": [],
   "source": [
    "# Predict the values of y using X.\n",
    "y_predicted = regression.predict(X_test)"
   ]
  },
  {
   "cell_type": "markdown",
   "id": "802ba3ad",
   "metadata": {},
   "source": [
    "## Create a plot"
   ]
  },
  {
   "cell_type": "code",
   "execution_count": 26,
   "id": "250d2ea6",
   "metadata": {},
   "outputs": [
    {
     "data": {
      "image/png": "[encoded data removed]",
      "text/plain": [
       "<Figure size 640x480 with 1 Axes>"
      ]
     },
     "metadata": {},
     "output_type": "display_data"
    }
   ],
   "source": [
    "plot_test = plt\n",
    "plot_test.scatter(X_test, y_test, color='gray', s = 15)\n",
    "plot_test.plot(X_test, y_predicted, color='red', linewidth =3)\n",
    "plot_test.title('Session Hit vs Purchase Number (Test set)')\n",
    "plot_test.xlabel('Session Hit')\n",
    "plot_test.ylabel('Purchase Number')\n",
    "plot_test.show()"
   ]
  },
  {
   "cell_type": "markdown",
   "id": "72014c19",
   "metadata": {},
   "source": [
    "## check the model performance statistics"
   ]
  },
  {
   "cell_type": "code",
   "execution_count": 27,
   "id": "759d0324",
   "metadata": {},
   "outputs": [],
   "source": [
    "# Create objects that contain the model summary statistics.\n",
    "rmse = mean_squared_error(y_test, y_predicted) \n",
    "r2 = r2_score(y_test, y_predicted) "
   ]
  },
  {
   "cell_type": "code",
   "execution_count": 28,
   "id": "2571a113",
   "metadata": {},
   "outputs": [
    {
     "name": "stdout",
     "output_type": "stream",
     "text": [
      "Slope: [[0.01633097]]\n",
      "Mean squared error:  1.357110535635298\n",
      "R2 score:  0.3273380362573517\n"
     ]
    }
   ],
   "source": [
    "# Print the model summary statistics. This is where you evaluate the performance of the model.\n",
    "print('Slope:' ,regression.coef_)\n",
    "print('Mean squared error: ', rmse)\n",
    "print('R2 score: ', r2)"
   ]
  },
  {
   "cell_type": "markdown",
   "id": "1630872f",
   "metadata": {},
   "source": [
    "## Compare the predicted y values with the actual y values in a dataframe"
   ]
  },
  {
   "cell_type": "code",
   "execution_count": 29,
   "id": "0639b917",
   "metadata": {},
   "outputs": [
    {
     "data": {
      "text/plain": [
       "array([[0.86381491],\n",
       "       [0.73316711],\n",
       "       [0.70050516],\n",
       "       ...,\n",
       "       [1.59870876],\n",
       "       [0.96180076],\n",
       "       [0.79849101]])"
      ]
     },
     "execution_count": 29,
     "metadata": {},
     "output_type": "execute_result"
    }
   ],
   "source": [
    "y_predicted"
   ]
  },
  {
   "cell_type": "code",
   "execution_count": 30,
   "id": "9c3913eb",
   "metadata": {},
   "outputs": [
    {
     "data": {
      "text/html": [
       "<div>\n",
       "<style scoped>\n",
       "    .dataframe tbody tr th:only-of-type {\n",
       "        vertical-align: middle;\n",
       "    }\n",
       "\n",
       "    .dataframe tbody tr th {\n",
       "        vertical-align: top;\n",
       "    }\n",
       "\n",
       "    .dataframe thead th {\n",
       "        text-align: right;\n",
       "    }\n",
       "</style>\n",
       "<table border=\"1\" class=\"dataframe\">\n",
       "  <thead>\n",
       "    <tr style=\"text-align: right;\">\n",
       "      <th></th>\n",
       "      <th>Actual</th>\n",
       "      <th>Predicted</th>\n",
       "    </tr>\n",
       "  </thead>\n",
       "  <tbody>\n",
       "    <tr>\n",
       "      <th>0</th>\n",
       "      <td>1</td>\n",
       "      <td>0.863815</td>\n",
       "    </tr>\n",
       "    <tr>\n",
       "      <th>1</th>\n",
       "      <td>1</td>\n",
       "      <td>0.733167</td>\n",
       "    </tr>\n",
       "    <tr>\n",
       "      <th>2</th>\n",
       "      <td>1</td>\n",
       "      <td>0.700505</td>\n",
       "    </tr>\n",
       "    <tr>\n",
       "      <th>3</th>\n",
       "      <td>1</td>\n",
       "      <td>1.794680</td>\n",
       "    </tr>\n",
       "    <tr>\n",
       "      <th>4</th>\n",
       "      <td>1</td>\n",
       "      <td>0.667843</td>\n",
       "    </tr>\n",
       "    <tr>\n",
       "      <th>5</th>\n",
       "      <td>1</td>\n",
       "      <td>0.667843</td>\n",
       "    </tr>\n",
       "    <tr>\n",
       "      <th>6</th>\n",
       "      <td>1</td>\n",
       "      <td>0.814822</td>\n",
       "    </tr>\n",
       "    <tr>\n",
       "      <th>7</th>\n",
       "      <td>1</td>\n",
       "      <td>1.811011</td>\n",
       "    </tr>\n",
       "    <tr>\n",
       "      <th>8</th>\n",
       "      <td>1</td>\n",
       "      <td>0.618850</td>\n",
       "    </tr>\n",
       "    <tr>\n",
       "      <th>9</th>\n",
       "      <td>1</td>\n",
       "      <td>0.798491</td>\n",
       "    </tr>\n",
       "    <tr>\n",
       "      <th>10</th>\n",
       "      <td>1</td>\n",
       "      <td>1.043456</td>\n",
       "    </tr>\n",
       "    <tr>\n",
       "      <th>11</th>\n",
       "      <td>1</td>\n",
       "      <td>1.370075</td>\n",
       "    </tr>\n",
       "    <tr>\n",
       "      <th>12</th>\n",
       "      <td>2</td>\n",
       "      <td>1.255758</td>\n",
       "    </tr>\n",
       "    <tr>\n",
       "      <th>13</th>\n",
       "      <td>1</td>\n",
       "      <td>0.912808</td>\n",
       "    </tr>\n",
       "    <tr>\n",
       "      <th>14</th>\n",
       "      <td>1</td>\n",
       "      <td>1.517054</td>\n",
       "    </tr>\n",
       "    <tr>\n",
       "      <th>15</th>\n",
       "      <td>1</td>\n",
       "      <td>1.664033</td>\n",
       "    </tr>\n",
       "    <tr>\n",
       "      <th>16</th>\n",
       "      <td>2</td>\n",
       "      <td>2.823532</td>\n",
       "    </tr>\n",
       "    <tr>\n",
       "      <th>17</th>\n",
       "      <td>1</td>\n",
       "      <td>1.370075</td>\n",
       "    </tr>\n",
       "    <tr>\n",
       "      <th>18</th>\n",
       "      <td>1</td>\n",
       "      <td>0.455541</td>\n",
       "    </tr>\n",
       "    <tr>\n",
       "      <th>19</th>\n",
       "      <td>1</td>\n",
       "      <td>1.108780</td>\n",
       "    </tr>\n",
       "    <tr>\n",
       "      <th>20</th>\n",
       "      <td>1</td>\n",
       "      <td>1.745688</td>\n",
       "    </tr>\n",
       "    <tr>\n",
       "      <th>21</th>\n",
       "      <td>1</td>\n",
       "      <td>0.994463</td>\n",
       "    </tr>\n",
       "    <tr>\n",
       "      <th>22</th>\n",
       "      <td>1</td>\n",
       "      <td>1.141441</td>\n",
       "    </tr>\n",
       "    <tr>\n",
       "      <th>23</th>\n",
       "      <td>1</td>\n",
       "      <td>0.765829</td>\n",
       "    </tr>\n",
       "    <tr>\n",
       "      <th>24</th>\n",
       "      <td>1</td>\n",
       "      <td>1.272089</td>\n",
       "    </tr>\n",
       "    <tr>\n",
       "      <th>25</th>\n",
       "      <td>1</td>\n",
       "      <td>0.569857</td>\n",
       "    </tr>\n",
       "    <tr>\n",
       "      <th>26</th>\n",
       "      <td>1</td>\n",
       "      <td>1.027125</td>\n",
       "    </tr>\n",
       "    <tr>\n",
       "      <th>27</th>\n",
       "      <td>1</td>\n",
       "      <td>1.092449</td>\n",
       "    </tr>\n",
       "    <tr>\n",
       "      <th>28</th>\n",
       "      <td>1</td>\n",
       "      <td>1.223096</td>\n",
       "    </tr>\n",
       "    <tr>\n",
       "      <th>29</th>\n",
       "      <td>2</td>\n",
       "      <td>1.239427</td>\n",
       "    </tr>\n",
       "  </tbody>\n",
       "</table>\n",
       "</div>"
      ],
      "text/plain": [
       "    Actual  Predicted\n",
       "0        1   0.863815\n",
       "1        1   0.733167\n",
       "2        1   0.700505\n",
       "3        1   1.794680\n",
       "4        1   0.667843\n",
       "5        1   0.667843\n",
       "6        1   0.814822\n",
       "7        1   1.811011\n",
       "8        1   0.618850\n",
       "9        1   0.798491\n",
       "10       1   1.043456\n",
       "11       1   1.370075\n",
       "12       2   1.255758\n",
       "13       1   0.912808\n",
       "14       1   1.517054\n",
       "15       1   1.664033\n",
       "16       2   2.823532\n",
       "17       1   1.370075\n",
       "18       1   0.455541\n",
       "19       1   1.108780\n",
       "20       1   1.745688\n",
       "21       1   0.994463\n",
       "22       1   1.141441\n",
       "23       1   0.765829\n",
       "24       1   1.272089\n",
       "25       1   0.569857\n",
       "26       1   1.027125\n",
       "27       1   1.092449\n",
       "28       1   1.223096\n",
       "29       2   1.239427"
      ]
     },
     "execution_count": 30,
     "metadata": {},
     "output_type": "execute_result"
    }
   ],
   "source": [
    "# Create a dataframe comparing the actual and predicted values of y.\n",
    "data = pd.DataFrame({'Actual': y_test.flatten(), 'Predicted': y_predicted.flatten()})\n",
    "data.head(30)"
   ]
  },
  {
   "cell_type": "markdown",
   "id": "c45c2c9b",
   "metadata": {},
   "source": [
    "# Compare how the regression fits the training set"
   ]
  },
  {
   "cell_type": "code",
   "execution_count": 31,
   "id": "b1925a2f",
   "metadata": {},
   "outputs": [],
   "source": [
    "# Predict.\n",
    "y_predicted_train = regression.predict(X_train)"
   ]
  },
  {
   "cell_type": "code",
   "execution_count": 32,
   "id": "1816d6d7",
   "metadata": {},
   "outputs": [],
   "source": [
    "rmse = mean_squared_error(y_train, y_predicted_train)\n",
    "r2 = r2_score(y_train, y_predicted_train)"
   ]
  },
  {
   "cell_type": "code",
   "execution_count": 33,
   "id": "0e057971",
   "metadata": {},
   "outputs": [
    {
     "name": "stdout",
     "output_type": "stream",
     "text": [
      "Slope: [[0.01633097]]\n",
      "Mean squared error:  1.4837132648832845\n",
      "R2 score:  0.35941763762641954\n"
     ]
    }
   ],
   "source": [
    "print('Slope:' ,regression.coef_)\n",
    "print('Mean squared error: ', rmse)\n",
    "print('R2 score: ', r2)"
   ]
  },
  {
   "cell_type": "code",
   "execution_count": 34,
   "id": "36484f30",
   "metadata": {},
   "outputs": [
    {
     "data": {
      "image/png": "[encoded data removed]",
      "text/plain": [
       "<Figure size 640x480 with 1 Axes>"
      ]
     },
     "metadata": {},
     "output_type": "display_data"
    }
   ],
   "source": [
    "# Visualizing the training set results.\n",
    "plot_test = plt\n",
    "plot_test.scatter(X_train, y_train, color='green', s = 15)\n",
    "plot_test.plot(X_train, y_predicted_train, color='red', linewidth =3)\n",
    "plot_test.title('Distance from metro vs Price per unit (Train set)')\n",
    "plot_test.xlabel('Distance from metro')\n",
    "plot_test.ylabel('Price per unit')\n",
    "plot_test.show()"
   ]
  },
  {
   "cell_type": "markdown",
   "id": "a76bed19",
   "metadata": {},
   "source": [
    "# The linear regression model doesn't work well on this data set"
   ]
  },
  {
   "cell_type": "markdown",
   "id": "684553be",
   "metadata": {},
   "source": [
    "#### The positive slope number shows that the purchase changes in the same direction as the hit changes, but a mean squared error of 1.36 and a low R2 value of 0.33 indicate that the data set does not fit well to liner regression, and we can clearly see from the plot that many data points deviate far from the regression line, so we can confidently say that the relationship between hit and purchase is not linear."
   ]
  },
  {
   "cell_type": "code",
   "execution_count": null,
   "id": "841e126c",
   "metadata": {},
   "outputs": [],
   "source": []
  }
 ],
 "metadata": {
  "kernelspec": {
   "display_name": "Python 3 (ipykernel)",
   "language": "python",
   "name": "python3"
  },
  "language_info": {
   "codemirror_mode": {
    "name": "ipython",
    "version": 3
   },
   "file_extension": ".py",
   "mimetype": "text/x-python",
   "name": "python",
   "nbconvert_exporter": "python",
   "pygments_lexer": "ipython3",
   "version": "3.9.13"
  }
 },
 "nbformat": 4,
 "nbformat_minor": 5
}
